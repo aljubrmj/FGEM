{
 "cells": [
  {
   "cell_type": "code",
   "execution_count": 1,
   "id": "a6b0e8a5",
   "metadata": {},
   "outputs": [],
   "source": [
    "# General\n",
    "import sys\n",
    "sys.path.insert(0, \"../..\")\n",
    "\n",
    "import numpy as np\n",
    "import numpy_financial as npf\n",
    "import pandas as pd\n",
    "import pickle\n",
    "from matplotlib.ticker import StrMethodFormatter\n",
    "import matplotlib.pyplot as plt\n",
    "from functools import partial\n",
    "from collections import defaultdict\n",
    "from copy import deepcopy\n",
    "\n",
    "#FGEM\n",
    "from fgem.utils.constants import *\n",
    "from fgem.powerplant import *\n",
    "from fgem.utils.utils import *\n",
    "from fgem.utils.config import *\n",
    "from fgem.world import World\n",
    "\n",
    "# GEOPHIRES-x\n",
    "from pathlib import Path\n",
    "from geophires_x_client import GeophiresXClient\n",
    "from geophires_x_client.geophires_input_parameters import GeophiresInputParameters\n",
    "\n",
    "#Override packages\n",
    "from tqdm.notebook import tqdm"
   ]
  },
  {
   "cell_type": "code",
   "execution_count": 2,
   "id": "4eb0de78",
   "metadata": {},
   "outputs": [],
   "source": [
    "src_dir = \"/Users/mohammadaljubran/Desktop/phd/research/code/notebooks/final_test_fgem/\""
   ]
  },
  {
   "cell_type": "markdown",
   "id": "40a6e428",
   "metadata": {},
   "source": [
    "### Example - A\n",
    "PercentageDecline, baseload, constant T_amb, constant T_inj, no ramey, compared to geophires"
   ]
  },
  {
   "cell_type": "code",
   "execution_count": null,
   "id": "0a827ef1",
   "metadata": {
    "scrolled": true
   },
   "outputs": [],
   "source": [
    "# https://github.com/NREL/GEOPHIRES-X/blob/main/tests/examples/example1.txt\n",
    "example_file_path = Path(os.path.join(src_dir, 'geophires_configs/exampleA.txt')).absolute()\n",
    "\n",
    "client = GeophiresXClient()\n",
    "result = client.get_geophires_result(\n",
    "            GeophiresInputParameters(from_file_path=example_file_path)\n",
    "        )"
   ]
  },
  {
   "cell_type": "code",
   "execution_count": null,
   "id": "15f491a2",
   "metadata": {},
   "outputs": [],
   "source": [
    "def step_update_record(project, m_prd=110, T_amb=15, T_inj=70):\n",
    "    \n",
    "    # UPDATE: we first update project state (also, we override parameters if needed)\n",
    "    project.update_state(m_prd)\n",
    "    project.T_inj = T_inj\n",
    "    \n",
    "    # STEP: step power plant and reservoir\n",
    "    m_turbine = project.m_g\n",
    "    T_prd_wh = project.reservoir.T_prd_wh.mean()\n",
    "    \n",
    "    # step powerplant\n",
    "    project.powerplant.step(m_turbine=m_turbine, \n",
    "                            T_prd_wh=T_prd_wh, \n",
    "                            T_amb=T_amb)\n",
    "    # step reservoir\n",
    "    project.reservoir.step(m_prd=m_prd,\n",
    "                        T_inj=T_inj,\n",
    "                        T_amb=T_amb)\n",
    "    \n",
    "    # RECORD: store the current project timestep\n",
    "    project.record_step()"
   ]
  },
  {
   "cell_type": "code",
   "execution_count": null,
   "id": "18a98de7",
   "metadata": {},
   "outputs": [],
   "source": [
    "config = get_config_from_json(Path(os.path.join(src_dir, 'fgem_configs/exampleA.json')).absolute())\n",
    "project = World(config)\n",
    "\n",
    "for i in tqdm(range(project.max_simulation_steps)):\n",
    "    step_update_record(project)\n",
    "    \n",
    "project.compute_economics()\n",
    "NPV, ROI, PBP, IRR, PPA_NPV, PPA_ROI, PPA_PBP, PPA_IRR, LCOE, NET_GEN, df_annual = compute_npv(project.df_records, project.capex_total, project.opex_total,\n",
    "                                                          project.baseline_year, project.L, project.d, ppa_price=75)\n",
    "\n",
    "# print economics\n",
    "print(f\"LCOE: {LCOE:.0f} $/MWh\")\n",
    "print(f\"NPV: {NPV:.0f} $MM\")\n",
    "print(f\"ROI: {ROI:.1f} %\")\n",
    "print(f\"PBP: {PBP:.0f} yrs\")"
   ]
  },
  {
   "cell_type": "code",
   "execution_count": null,
   "id": "46d47b5b",
   "metadata": {},
   "outputs": [],
   "source": [
    "include = ['Power Plant', 'Interconnection', 'Exploration', \n",
    "           'Drilling', 'Injection Stimulation', 'Gathering System', 'Pumps', 'TES', 'Battery']\n",
    "costs = {k:v for k,v in project.present_capex_per_unit.items()}\n",
    "costs[\"Pumps\"] = costs[\"Production Pumps\"] + costs[\"Injection Pumps\"]\n",
    "costs_final = {k:costs[k] for k in include}\n",
    "plot_ex({\"\": costs_final}, figsize=(7,7), dpi=100, fontsize=10)"
   ]
  },
  {
   "cell_type": "code",
   "execution_count": null,
   "id": "2faae366",
   "metadata": {},
   "outputs": [],
   "source": [
    "include = ['Power Plant', 'Wellsite', 'Makeup Water']\n",
    "costs = {k:v for k,v in project.present_opex_per_unit.items()}\n",
    "# costs[\"Pumps\"] = costs[\"Production Pumps\"] + costs[\"Injection Pumps\"]\n",
    "costs_final = {k:costs[k] for k in include}\n",
    "plot_ex({\"\": costs_final}, figsize=(7,7), dpi=100, fontsize=10)"
   ]
  },
  {
   "cell_type": "code",
   "execution_count": null,
   "id": "8d069a00",
   "metadata": {},
   "outputs": [],
   "source": [
    "qdict = {\n",
    "            \"LMP [$/MWh]\": \"Electricity Price \\n [$/MWh]\",\n",
    "          \"Atm Temp [deg C]\": \"Ambient Temp. \\n [$\\degree C$]\",\n",
    "          \"Res Temp [deg C]\": \"Reservoir Temp. \\n [$\\degree C$]\",\n",
    "          'Inj Temp [deg C]': \"Intector Temp. \\n [$\\degree C$]\",\n",
    "          \"Net Power Output [MWe]\": \"Net Generation \\n [MWh]\",\n",
    "          'M_Produced [kg/s]': \"Field Production \\n [kg/s]\",\n",
    "          \"Pumping Power [MWe]\": \"Pumping Power \\n [MWe]\",\n",
    "          \"WH Temp [deg C]\": \"Producer\\nTemp. [$\\degree C$]\",\n",
    "#           \"Producer Wellhead Pressure + Pinj [bar]\": \"Producer\\nPressure [bar]\"\n",
    "}\n",
    "\n",
    "quantities = list(qdict.keys())\n",
    "ylabels = list(qdict.values())\n",
    "\n",
    "span = range(0, project.max_simulation_steps-1)\n",
    "fig, axes = plot_cols_v2({\" \": project.df_records}, span, quantities, \n",
    "                         figsize=(10,12), ylabels=ylabels, legend_loc=False, dpi=100, \n",
    "                       formattime=False, return_figax=True)"
   ]
  },
  {
   "cell_type": "markdown",
   "id": "6f03c1ac",
   "metadata": {
    "heading_collapsed": true
   },
   "source": [
    "### Example - B1:\n",
    "Same as above but with changing T_amb, changing T_inj, ramey, daily timestepping"
   ]
  },
  {
   "cell_type": "code",
   "execution_count": null,
   "id": "2e2ae92a",
   "metadata": {
    "hidden": true
   },
   "outputs": [],
   "source": [
    "def step_update_record(project, m_prd=110):\n",
    "    \n",
    "    # UPDATE: we first update project state (also, we override parameters if needed)\n",
    "    project.update_state(m_prd)\n",
    "    \n",
    "    # STEP: step power plant and reservoir\n",
    "    T_inj = project.T_inj\n",
    "    T_amb = project.T_amb\n",
    "    m_turbine = project.m_g\n",
    "    T_prd_wh = project.reservoir.T_prd_wh.mean()\n",
    "    \n",
    "    # step powerplant\n",
    "    project.powerplant.step(m_turbine=m_turbine, \n",
    "                            T_prd_wh=T_prd_wh, \n",
    "                            T_amb=T_amb)\n",
    "    # step reservoir\n",
    "    project.reservoir.step(m_prd=m_prd,\n",
    "                        T_inj=T_inj,\n",
    "                        T_amb=T_amb)\n",
    "    \n",
    "    # RECORD: store the current project timestep\n",
    "    project.record_step()"
   ]
  },
  {
   "cell_type": "code",
   "execution_count": null,
   "id": "48dfb2b8",
   "metadata": {
    "hidden": true,
    "scrolled": false
   },
   "outputs": [],
   "source": [
    "config = get_config_from_json(Path(os.path.join(src_dir, 'fgem_configs/exampleB.json')).absolute())\n",
    "project = World(config)\n",
    "\n",
    "for i in tqdm(range(project.max_simulation_steps)):\n",
    "    step_update_record(project)\n",
    "    \n",
    "project.compute_economics()\n",
    "NPV, ROI, PBP, IRR, PPA_NPV, PPA_ROI, PPA_PBP, PPA_IRR, LCOE, NET_GEN, df_annual = compute_npv(project.df_records, project.capex_total, project.opex_total,\n",
    "                                                          project.baseline_year, project.L, project.d, ppa_price=75)\n",
    "\n",
    "# print economics\n",
    "print(f\"LCOE: {LCOE:.0f} $/MWh\")\n",
    "print(f\"NPV: {NPV:.0f} $MM\")\n",
    "print(f\"ROI: {ROI:.1f} %\")\n",
    "print(f\"PBP: {PBP:.0f} yrs\")"
   ]
  },
  {
   "cell_type": "code",
   "execution_count": null,
   "id": "8a279f65",
   "metadata": {
    "hidden": true
   },
   "outputs": [],
   "source": [
    "qdict = {\n",
    "            \"LMP [$/MWh]\": \"Electricity Price \\n [$/MWh]\",\n",
    "          \"Atm Temp [deg C]\": \"Ambient Temp. \\n [$\\degree C$]\",\n",
    "          \"Res Temp [deg C]\": \"Reservoir Temp. \\n [$\\degree C$]\",\n",
    "          'Inj Temp [deg C]': \"Intector Temp. \\n [$\\degree C$]\",\n",
    "          \"Net Power Output [MWe]\": \"Net Generation \\n [MWh]\",\n",
    "          'M_Produced [kg/s]': \"Field Production \\n [kg/s]\",\n",
    "          \"Pumping Power [MWe]\": \"Pumping Power \\n [MWe]\",\n",
    "          \"WH Temp [deg C]\": \"Producer\\nTemp. [$\\degree C$]\",\n",
    "#           \"Producer Wellhead Pressure + Pinj [bar]\": \"Producer\\nPressure [bar]\"\n",
    "}\n",
    "\n",
    "quantities = list(qdict.keys())\n",
    "ylabels = list(qdict.values())\n",
    "\n",
    "span = range(0, project.max_simulation_steps-1)\n",
    "fig, axes = plot_cols_v2({\" \": project.df_records}, span, quantities, \n",
    "                         figsize=(10,12), ylabels=ylabels, legend_loc=False, dpi=100, \n",
    "                       formattime=False, return_figax=True)"
   ]
  },
  {
   "cell_type": "markdown",
   "id": "6b62b3ca",
   "metadata": {
    "heading_collapsed": true
   },
   "source": [
    "### Example C\n",
    "Same as B but with power market data based on 2022 Cambium/E3 RECs, 30% ITC, 30 years lifetime"
   ]
  },
  {
   "cell_type": "code",
   "execution_count": null,
   "id": "50e3fed7",
   "metadata": {
    "hidden": true
   },
   "outputs": [],
   "source": [
    "def step_update_record(project, m_prd=110):\n",
    "    \n",
    "    # UPDATE: we first update project state (also, we override parameters if needed)\n",
    "    project.update_state(m_prd)\n",
    "    \n",
    "    # STEP: step power plant and reservoir\n",
    "    T_inj = project.T_inj\n",
    "    T_amb = project.T_amb\n",
    "    m_turbine = project.m_g\n",
    "    T_prd_wh = project.reservoir.T_prd_wh.mean()\n",
    "    \n",
    "    # step powerplant\n",
    "    project.powerplant.step(m_turbine=m_turbine, \n",
    "                            T_prd_wh=T_prd_wh, \n",
    "                            T_amb=T_amb)\n",
    "    # step reservoir\n",
    "    project.reservoir.step(m_prd=m_prd,\n",
    "                        T_inj=T_inj,\n",
    "                        T_amb=T_amb)\n",
    "    \n",
    "    # RECORD: store the current project timestep\n",
    "    project.record_step()"
   ]
  },
  {
   "cell_type": "code",
   "execution_count": null,
   "id": "f8d9707b",
   "metadata": {
    "hidden": true
   },
   "outputs": [],
   "source": [
    "config = get_config_from_json(Path(os.path.join(src_dir, 'fgem_configs/exampleC.json')).absolute())\n",
    "project = World(config)\n",
    "\n",
    "for i in tqdm(range(project.max_simulation_steps)):\n",
    "    step_update_record(project)\n",
    "    \n",
    "project.compute_economics()\n",
    "NPV, ROI, PBP, IRR, PPA_NPV, PPA_ROI, PPA_PBP, PPA_IRR, LCOE, NET_GEN, df_annual = compute_npv(project.df_records, project.capex_total, project.opex_total,\n",
    "                                                          project.baseline_year, project.L, project.d, ppa_price=75)\n",
    "\n",
    "# print economics\n",
    "print(f\"LCOE: {LCOE:.0f} $/MWh\")\n",
    "print(f\"NPV: {NPV:.0f} $MM\")\n",
    "print(f\"ROI: {ROI:.1f} %\")\n",
    "print(f\"PBP: {PBP:.0f} yrs\")"
   ]
  },
  {
   "cell_type": "code",
   "execution_count": null,
   "id": "7c2878ec",
   "metadata": {
    "hidden": true
   },
   "outputs": [],
   "source": [
    "qdict = {\n",
    "          \"LMP [$/MWh]\": \"Electricity Price \\n [$/MWh]\",\n",
    "          \"RECs Value [$/MWh]\": \"RECs\\n[$/MWh]\",\n",
    "          \"Capacity Value [$/MW-hour]\": \"Capacity Value \\n[$/MWh]\",\n",
    "          \"Atm Temp [deg C]\": \"Ambient Temp. \\n [$\\degree C$]\",\n",
    "          \"Res Temp [deg C]\": \"Reservoir Temp. \\n [$\\degree C$]\",\n",
    "          'Inj Temp [deg C]': \"Intector Temp. \\n [$\\degree C$]\",\n",
    "          \"Net Power Output [MWe]\": \"Net Generation \\n [MWh]\",\n",
    "          'M_Produced [kg/s]': \"Field Production \\n [kg/s]\",\n",
    "          \"Pumping Power [MWe]\": \"Pumping Power \\n [MWe]\",\n",
    "          \"WH Temp [deg C]\": \"Producer\\nTemp. [$\\degree C$]\",\n",
    "}\n",
    "\n",
    "quantities = list(qdict.keys())\n",
    "ylabels = list(qdict.values())\n",
    "\n",
    "span = range(0, project.max_simulation_steps-1)\n",
    "fig, axes = plot_cols_v2({\" \": project.df_records}, span, quantities, \n",
    "                         figsize=(10,12), ylabels=ylabels, legend_loc=False, dpi=100, \n",
    "                       formattime=False, return_figax=True)"
   ]
  },
  {
   "cell_type": "markdown",
   "id": "c916e97d",
   "metadata": {},
   "source": [
    "### Example D\n",
    "Same as C but with analytical DiffusionConvection Reservoir Model"
   ]
  },
  {
   "cell_type": "code",
   "execution_count": null,
   "id": "96402e92",
   "metadata": {},
   "outputs": [],
   "source": [
    "def step_update_record(project, m_prd=130):\n",
    "    \n",
    "    # UPDATE: we first update project state (also, we override parameters if needed)\n",
    "    project.update_state(m_prd)\n",
    "    \n",
    "    # STEP: step power plant and reservoir\n",
    "    T_inj = project.T_inj\n",
    "    T_amb = project.T_amb\n",
    "    m_turbine = project.m_g\n",
    "    T_prd_wh = project.reservoir.T_prd_wh.mean()\n",
    "    \n",
    "    # step powerplant\n",
    "    project.powerplant.step(m_turbine=m_turbine, \n",
    "                            T_prd_wh=T_prd_wh, \n",
    "                            T_amb=T_amb)\n",
    "    # step reservoir\n",
    "    project.reservoir.step(m_prd=m_prd,\n",
    "                        T_inj=T_inj,\n",
    "                        T_amb=T_amb)\n",
    "    \n",
    "    # RECORD: store the current project timestep\n",
    "    project.record_step()"
   ]
  },
  {
   "cell_type": "code",
   "execution_count": null,
   "id": "9b62f8e5",
   "metadata": {},
   "outputs": [],
   "source": [
    "config = get_config_from_json(Path(os.path.join(src_dir, 'fgem_configs/exampleD.json')).absolute())\n",
    "project = World(config)\n",
    "\n",
    "for i in tqdm(range(project.max_simulation_steps)):\n",
    "    step_update_record(project)\n",
    "    \n",
    "project.compute_economics()\n",
    "NPV, ROI, PBP, IRR, PPA_NPV, PPA_ROI, PPA_PBP, PPA_IRR, LCOE, NET_GEN, df_annual = compute_npv(project.df_records, project.capex_total, project.opex_total,\n",
    "                                                          project.baseline_year, project.L, project.d, ppa_price=75)\n",
    "\n",
    "# print economics\n",
    "print(f\"LCOE: {LCOE:.0f} $/MWh\")\n",
    "print(f\"NPV: {NPV:.0f} $MM\")\n",
    "print(f\"ROI: {ROI:.1f} %\")\n",
    "print(f\"PBP: {PBP:.0f} yrs\")"
   ]
  },
  {
   "cell_type": "code",
   "execution_count": null,
   "id": "801c66a2",
   "metadata": {},
   "outputs": [],
   "source": [
    "qdict = {\n",
    "#           \"LMP [$/MWh]\": \"Electricity Price \\n [$/MWh]\",\n",
    "#           \"RECs Value [$/MWh]\": \"RECs\\n[$/MWh]\",\n",
    "#           \"Capacity Value [$/MW-hour]\": \"Capacity Value \\n[$/MWh]\",\n",
    "          \"Atm Temp [deg C]\": \"Ambient Temp. \\n [$\\degree C$]\",\n",
    "          \"Res Temp [deg C]\": \"Reservoir Temp. \\n [$\\degree C$]\",\n",
    "          'Inj Temp [deg C]': \"Intector Temp. \\n [$\\degree C$]\",\n",
    "          \"Net Power Output [MWe]\": \"Net Generation \\n [MWh]\",\n",
    "          'M_Produced [kg/s]': \"Field Production \\n [kg/s]\",\n",
    "          \"Pumping Power [MWe]\": \"Pumping Power \\n [MWe]\",\n",
    "#           \"WH Temp [deg C]\": \"Producer\\nTemp. [$\\degree C$]\",\n",
    "}\n",
    "\n",
    "quantities = list(qdict.keys())\n",
    "ylabels = list(qdict.values())\n",
    "\n",
    "span = range(365, project.max_simulation_steps-1)\n",
    "fig, axes = plot_cols_v2({\" \": project.df_records}, span, quantities, \n",
    "                         figsize=(10,12), ylabels=ylabels, legend_loc=False, dpi=100, \n",
    "                       formattime=False, return_figax=True)"
   ]
  },
  {
   "cell_type": "markdown",
   "id": "a567d34b",
   "metadata": {
    "heading_collapsed": true
   },
   "source": [
    "### Example E\n",
    "Same as D but with power generation maximizing strategy using wellhead throttling and power plant bypass"
   ]
  },
  {
   "cell_type": "code",
   "execution_count": null,
   "id": "82dab88a",
   "metadata": {
    "hidden": true
   },
   "outputs": [],
   "source": [
    "def step_update_record(project, max_mass_flow=150):\n",
    "    \n",
    "    \n",
    "    # UPDATE: we first update project state (also, we override parameters if needed)\n",
    "    power_output_MWh_kg = project.powerplant.power_output_MWh_kg\n",
    "    required_mass_flow_per_well = project.ppc / (power_output_MWh_kg * 3600 * project.num_prd + SMALL_NUM)\n",
    "    m_prd = np.minimum(max_mass_flow, np.array(project.num_prd*[required_mass_flow_per_well])).astype(float)\n",
    "    project.update_state(m_prd)\n",
    "    \n",
    "    # STEP: step power plant and reservoir\n",
    "    T_inj = project.T_inj\n",
    "    T_amb = project.T_amb\n",
    "    m_turbine = project.m_g\n",
    "    T_prd_wh = project.reservoir.T_prd_wh.mean()\n",
    "    \n",
    "    # step powerplant\n",
    "    project.powerplant.step(m_turbine=m_turbine, \n",
    "                            T_prd_wh=T_prd_wh, \n",
    "                            T_amb=T_amb)\n",
    "    # step reservoir\n",
    "    project.reservoir.step(m_prd=m_prd,\n",
    "                        T_inj=T_inj,\n",
    "                        T_amb=T_amb)\n",
    "    \n",
    "    # RECORD: store the current project timestep\n",
    "    project.record_step()"
   ]
  },
  {
   "cell_type": "code",
   "execution_count": null,
   "id": "c9f46dcc",
   "metadata": {
    "hidden": true
   },
   "outputs": [],
   "source": [
    "config = get_config_from_json(Path(os.path.join(src_dir, 'fgem_configs/exampleE.json')).absolute())\n",
    "project = World(config)\n",
    "\n",
    "for i in tqdm(range(project.max_simulation_steps)):\n",
    "    step_update_record(project)\n",
    "    \n",
    "project.compute_economics()\n",
    "NPV, ROI, PBP, IRR, PPA_NPV, PPA_ROI, PPA_PBP, PPA_IRR, LCOE, NET_GEN, df_annual = compute_npv(project.df_records, project.capex_total, project.opex_total,\n",
    "                                                          project.baseline_year, project.L, project.d, ppa_price=75)\n",
    "\n",
    "# print economics\n",
    "print(f\"LCOE: {LCOE:.0f} $/MWh\")\n",
    "print(f\"NPV: {NPV:.0f} $MM\")\n",
    "print(f\"ROI: {ROI:.1f} %\")\n",
    "print(f\"PBP: {PBP:.0f} yrs\")"
   ]
  },
  {
   "cell_type": "code",
   "execution_count": null,
   "id": "deacb015",
   "metadata": {
    "hidden": true
   },
   "outputs": [],
   "source": [
    "qdict = {\n",
    "#           \"LMP [$/MWh]\": \"Electricity Price \\n [$/MWh]\",\n",
    "#           \"RECs Value [$/MWh]\": \"RECs\\n[$/MWh]\",\n",
    "#           \"Capacity Value [$/MW-hour]\": \"Capacity Value \\n[$/MWh]\",\n",
    "          \"Atm Temp [deg C]\": \"Ambient Temp. \\n [$\\degree C$]\",\n",
    "          \"Res Temp [deg C]\": \"Reservoir Temp. \\n [$\\degree C$]\",\n",
    "          'Inj Temp [deg C]': \"Intector Temp. \\n [$\\degree C$]\",\n",
    "          \"Net Power Output [MWe]\": \"Net Generation \\n [MWh]\",\n",
    "          'M_Produced [kg/s]': \"Field Production \\n [kg/s]\",\n",
    "          \"Pumping Power [MWe]\": \"Pumping Power \\n [MWe]\",\n",
    "#           \"WH Temp [deg C]\": \"Producer\\nTemp. [$\\degree C$]\",\n",
    "}\n",
    "\n",
    "quantities = list(qdict.keys())\n",
    "ylabels = list(qdict.values())\n",
    "\n",
    "span = range(365, project.max_simulation_steps-1)\n",
    "fig, axes = plot_cols_v2({\" \": project.df_records}, span, quantities, \n",
    "                         figsize=(10,12), ylabels=ylabels, legend_loc=False, dpi=100, \n",
    "                       formattime=False, return_figax=True)"
   ]
  },
  {
   "cell_type": "markdown",
   "id": "036ea661",
   "metadata": {},
   "source": [
    "### Example F\n",
    "Same D but with slightly higher flow rates and a hot water tank for storage purposes with a diurnal schedule, using 4h timestepping"
   ]
  },
  {
   "cell_type": "code",
   "execution_count": null,
   "id": "d451c94d",
   "metadata": {},
   "outputs": [],
   "source": [
    "def step_update_record(project, m_prd=130, charge_time=(8, 14), discharge_time=(17, 23)):\n",
    "    \n",
    "    # UPDATE: we first update project state (also, we override parameters if needed)\n",
    "    if (project.time_curr.hour >= charge_time[0]) and (project.time_curr.hour <= charge_time[1]):\n",
    "        max_charge_mass = project.st.mass_max_charge/project.timestep.total_seconds()\n",
    "        m_tes_in = np.clip(m_prd * project.num_prd, 0, max_charge_mass)\n",
    "        m_tes_out = 0\n",
    "        m_prd = np.maximum(m_prd, m_tes_in/project.num_prd * np.ones(project.num_prd))\n",
    "        \n",
    "    elif (project.time_curr.hour >= discharge_time[0]) and (project.time_curr.hour <= discharge_time[1]):\n",
    "        max_discharge_mass = project.st.mass_max_discharge/project.timestep.total_seconds()\n",
    "        m_tes_out = max_discharge_mass\n",
    "        m_tes_in = 0\n",
    "        m_prd = np.maximum(m_prd -  m_tes_out/project.num_prd, 10)\n",
    "        \n",
    "    else:\n",
    "        m_tes_in, m_tes_out = 0, 0\n",
    "        \n",
    "    project.update_state(m_prd, m_tes_out=m_tes_out, m_tes_in=m_tes_in)\n",
    "    \n",
    "    # STEP: step power plant and reservoir\n",
    "    T_inj = project.T_inj\n",
    "    T_amb = project.T_amb\n",
    "    m_turbine = project.m_g\n",
    "    T_prd_wh = project.reservoir.T_prd_wh.mean()\n",
    "    \n",
    "    # step TES\n",
    "    m_tes_in, m_tes_out = project.st.step(T_amb, m_tes_in, m_tes_out, T_prd_wh)\n",
    "    T_tes_out = project.st.Tw\n",
    "            \n",
    "    # step powerplant\n",
    "    project.powerplant.step(m_turbine=m_turbine, \n",
    "                            T_prd_wh=T_prd_wh, \n",
    "                            T_tes_out=T_tes_out,\n",
    "                            T_amb=T_amb)\n",
    "    # step reservoir\n",
    "    project.reservoir.step(m_prd=m_prd,\n",
    "                        T_inj=T_inj,\n",
    "                        T_amb=T_amb)\n",
    "    \n",
    "    # RECORD: store the current project timestep\n",
    "    project.record_step()"
   ]
  },
  {
   "cell_type": "code",
   "execution_count": null,
   "id": "2d46d568",
   "metadata": {},
   "outputs": [],
   "source": [
    "config = get_config_from_json(Path(os.path.join(src_dir, 'fgem_configs/exampleF.json')).absolute())\n",
    "project = World(config)\n",
    "\n",
    "for i in tqdm(range(project.max_simulation_steps)):\n",
    "    step_update_record(project)\n",
    "    \n",
    "project.compute_economics()\n",
    "NPV, ROI, PBP, IRR, PPA_NPV, PPA_ROI, PPA_PBP, PPA_IRR, LCOE, NET_GEN, df_annual = compute_npv(project.df_records, project.capex_total, project.opex_total,\n",
    "                                                          project.baseline_year, project.L, project.d, ppa_price=75)\n",
    "\n",
    "# print economics\n",
    "print(f\"LCOE: {LCOE:.0f} $/MWh\")\n",
    "print(f\"NPV: {NPV:.0f} $MM\")\n",
    "print(f\"ROI: {ROI:.1f} %\")\n",
    "print(f\"PBP: {PBP:.0f} yrs\")"
   ]
  },
  {
   "cell_type": "code",
   "execution_count": null,
   "id": "78af527e",
   "metadata": {},
   "outputs": [],
   "source": [
    "qdict = {\n",
    "#           \"LMP [$/MWh]\": \"Electricity Price \\n [$/MWh]\",\n",
    "#           \"RECs Value [$/MWh]\": \"RECs\\n[$/MWh]\",\n",
    "#           \"Capacity Value [$/MW-hour]\": \"Capacity Value \\n[$/MWh]\",\n",
    "          \"TES Temp [deg C]\": \"TES Temp\",\n",
    "          \"TES M_in [kg/s]\": \"TES M_in\",\n",
    "          \"TES M_out [kg/s]\": \"TES M_out\",\n",
    "          \"TES Water Vol [m3]\": \"TES Vol [m3]\",\n",
    "          \"Atm Temp [deg C]\": \"Ambient Temp. \\n [$\\degree C$]\",\n",
    "          \"Res Temp [deg C]\": \"Reservoir Temp. \\n [$\\degree C$]\",\n",
    "          'Inj Temp [deg C]': \"Intector Temp. \\n [$\\degree C$]\",\n",
    "          \"Net Power Output [MWe]\": \"Net Generation \\n [MWh]\",\n",
    "          'M_Produced [kg/s]': \"Field Production \\n [kg/s]\",\n",
    "          \"Pumping Power [MWe]\": \"Pumping Power \\n [MWe]\",\n",
    "#           \"WH Temp [deg C]\": \"Producer\\nTemp. [$\\degree C$]\",\n",
    "}\n",
    "\n",
    "quantities = list(qdict.keys())\n",
    "ylabels = list(qdict.values())\n",
    "\n",
    "# span = range(365, project.max_simulation_steps-1)\n",
    "span = range(365, 500)\n",
    "fig, axes = plot_cols_v2({\" \": project.df_records}, span, quantities, \n",
    "                         figsize=(10,12), ylabels=ylabels, legend_loc=False, dpi=100, \n",
    "                       formattime=False, return_figax=True)"
   ]
  },
  {
   "cell_type": "markdown",
   "id": "53d01f24",
   "metadata": {},
   "source": [
    "### Example G\n",
    "Same as D but with battery installed"
   ]
  },
  {
   "cell_type": "code",
   "execution_count": 3,
   "id": "9109f821",
   "metadata": {},
   "outputs": [],
   "source": [
    "def step_update_record(project, m_prd=130, charge_time=(10, 14), discharge_time=(17, 21)):\n",
    "    \n",
    "    # UPDATE: we first update project state (also, we override parameters if needed)\n",
    "    \n",
    "    if (project.time_curr.hour >= charge_time[0]) and (project.time_curr.hour <= charge_time[1]):\n",
    "        max_charge_power = (project.battery.energy_capacity - project.battery.energy_content)/project.timestep_hrs\n",
    "        p_bat_ppin = np.clip(project.battery_power_capacity[0], 0, max_charge_power)\n",
    "        p_bat_out = 0\n",
    "        \n",
    "    elif (project.time_curr.hour >= discharge_time[0]) and (project.time_curr.hour <= discharge_time[1]):\n",
    "        max_discharge_power = project.battery.energy_content/project.timestep_hrs\n",
    "        p_bat_out = np.clip(project.battery_power_capacity[0], 0, max_discharge_power)\n",
    "        p_bat_ppin = 0\n",
    "    else:\n",
    "        p_bat_out, p_bat_ppin = 0, 0\n",
    "        \n",
    "    # Mass used to charge battery\n",
    "    violation = project.battery.step(p_bat_ppin, p_bat_out)\n",
    "    if violation:\n",
    "        p_bat_out, p_bat_in, p_bat_ppin, p_bat_gridin = 0.0, 0.0, 0.0, 0.0\n",
    "    \n",
    "    project.update_state(m_prd, p_bat_ppin=p_bat_ppin, p_bat_out=p_bat_out)\n",
    "    \n",
    "    # STEP: step power plant and reservoir\n",
    "    T_inj = project.T_inj\n",
    "    T_amb = project.T_amb\n",
    "    m_turbine = project.m_g\n",
    "    T_prd_wh = project.reservoir.T_prd_wh.mean()\n",
    "    \n",
    "    # step battery\n",
    "    project.battery.step(p_bat_ppin, p_bat_out)\n",
    "    \n",
    "    # step powerplant\n",
    "    project.powerplant.step(m_turbine=m_turbine, \n",
    "                            T_prd_wh=T_prd_wh, \n",
    "                            T_amb=T_amb)\n",
    "    # step reservoir\n",
    "    project.reservoir.step(m_prd=m_prd,\n",
    "                        T_inj=T_inj,\n",
    "                        T_amb=T_amb)\n",
    "    \n",
    "    # RECORD: store the current project timestep\n",
    "    project.record_step()"
   ]
  },
  {
   "cell_type": "code",
   "execution_count": 6,
   "id": "57bc05e0",
   "metadata": {},
   "outputs": [
    {
     "data": {
      "application/vnd.jupyter.widget-view+json": {
       "model_id": "c4c6c61ea22341c2805c3b5d25796951",
       "version_major": 2,
       "version_minor": 0
      },
      "text/plain": [
       "  0%|          | 0/131400 [00:00<?, ?it/s]"
      ]
     },
     "metadata": {},
     "output_type": "display_data"
    },
    {
     "name": "stderr",
     "output_type": "stream",
     "text": [
      "IntegrationWarning: The maximum number of subdivisions (50) has been achieved.\n",
      "  If increasing the limit yields no improvement it is advised to analyze \n",
      "  the integrand in order to determine the difficulties.  If the position of a \n",
      "  local difficulty can be determined (singularity, discontinuity) one will \n",
      "  probably gain from splitting up the interval and calling the integrator \n",
      "  on the subranges.  Perhaps a special-purpose integrator should be used.\n"
     ]
    },
    {
     "name": "stdout",
     "output_type": "stream",
     "text": [
      "LCOE: 104 $/MWh\n",
      "NPV: -2 $MM\n",
      "ROI: -4.5 %\n",
      "PBP: 14 yrs\n"
     ]
    }
   ],
   "source": [
    "config = get_config_from_json(Path(os.path.join(src_dir, 'fgem_configs/exampleG.json')).absolute())\n",
    "project = World(config)\n",
    "\n",
    "for i in tqdm(range(project.max_simulation_steps)):\n",
    "    step_update_record(project)\n",
    "    \n",
    "project.compute_economics()\n",
    "NPV, ROI, PBP, IRR, PPA_NPV, PPA_ROI, PPA_PBP, PPA_IRR, LCOE, NET_GEN, df_annual = compute_npv(project.df_records, project.capex_total, project.opex_total,\n",
    "                                                          project.baseline_year, project.L, project.d, ppa_price=75)\n",
    "\n",
    "# print economics\n",
    "print(f\"LCOE: {LCOE:.0f} $/MWh\")\n",
    "print(f\"NPV: {NPV:.0f} $MM\")\n",
    "print(f\"ROI: {ROI:.1f} %\")\n",
    "print(f\"PBP: {PBP:.0f} yrs\")"
   ]
  },
  {
   "cell_type": "code",
   "execution_count": 8,
   "id": "9ab2370f",
   "metadata": {},
   "outputs": [
    {
     "data": {
      "image/png": "[encoded data removed]",
      "text/plain": [
       "<Figure size 1000x1200 with 9 Axes>"
      ]
     },
     "metadata": {},
     "output_type": "display_data"
    }
   ],
   "source": [
    "qdict = {\n",
    "          \"Bat Charge From PP [MWe]\": \"Bat IN\",\n",
    "          \"Bat Discharge [MWe]\": \"Bat OUT\",\n",
    "          \"SOC [%]\": \"SOC\",\n",
    "          \"Atm Temp [deg C]\": \"Ambient Temp. \\n [$\\degree C$]\",\n",
    "          \"Res Temp [deg C]\": \"Reservoir Temp. \\n [$\\degree C$]\",\n",
    "          'Inj Temp [deg C]': \"Intector Temp. \\n [$\\degree C$]\",\n",
    "          \"Net Power Output [MWe]\": \"Net Generation \\n [MWh]\",\n",
    "          'M_Produced [kg/s]': \"Field Production \\n [kg/s]\",\n",
    "          \"Pumping Power [MWe]\": \"Pumping Power \\n [MWe]\",\n",
    "#           \"WH Temp [deg C]\": \"Producer\\nTemp. [$\\degree C$]\",\n",
    "}\n",
    "\n",
    "quantities = list(qdict.keys())\n",
    "ylabels = list(qdict.values())\n",
    "\n",
    "# span = range(365, project.max_simulation_steps-1)\n",
    "span = range(365, 380)\n",
    "fig, axes = plot_cols_v2({\" \": project.df_records}, span, quantities, \n",
    "                         figsize=(10,12), ylabels=ylabels, legend_loc=False, dpi=100, \n",
    "                       formattime=False, return_figax=True)"
   ]
  },
  {
   "cell_type": "code",
   "execution_count": 2,
   "id": "b3a73b1c",
   "metadata": {},
   "outputs": [],
   "source": [
    "import pandas as pd"
   ]
  },
  {
   "cell_type": "code",
   "execution_count": 15,
   "id": "730bda07",
   "metadata": {},
   "outputs": [],
   "source": [
    "df = pd.read_csv(\"./data/sample_project/reservoir.csv\")\n",
    "df[\"Date\"] = pd.to_datetime(df[\"Date\"])"
   ]
  },
  {
   "cell_type": "code",
   "execution_count": 18,
   "id": "4d7cbdda",
   "metadata": {},
   "outputs": [
    {
     "data": {
      "text/html": [
       "<div>\n",
       "<style scoped>\n",
       "    .dataframe tbody tr th:only-of-type {\n",
       "        vertical-align: middle;\n",
       "    }\n",
       "\n",
       "    .dataframe tbody tr th {\n",
       "        vertical-align: top;\n",
       "    }\n",
       "\n",
       "    .dataframe thead th {\n",
       "        text-align: right;\n",
       "    }\n",
       "</style>\n",
       "<table border=\"1\" class=\"dataframe\">\n",
       "  <thead>\n",
       "    <tr style=\"text-align: right;\">\n",
       "      <th></th>\n",
       "      <th>Date</th>\n",
       "      <th>Tres</th>\n",
       "    </tr>\n",
       "  </thead>\n",
       "  <tbody>\n",
       "    <tr>\n",
       "      <th>0</th>\n",
       "      <td>2024-01-01</td>\n",
       "      <td>190.000</td>\n",
       "    </tr>\n",
       "    <tr>\n",
       "      <th>1</th>\n",
       "      <td>2024-01-02</td>\n",
       "      <td>189.995</td>\n",
       "    </tr>\n",
       "    <tr>\n",
       "      <th>2</th>\n",
       "      <td>2024-01-03</td>\n",
       "      <td>189.990</td>\n",
       "    </tr>\n",
       "    <tr>\n",
       "      <th>3</th>\n",
       "      <td>2024-01-04</td>\n",
       "      <td>189.985</td>\n",
       "    </tr>\n",
       "    <tr>\n",
       "      <th>4</th>\n",
       "      <td>2024-01-05</td>\n",
       "      <td>189.980</td>\n",
       "    </tr>\n",
       "    <tr>\n",
       "      <th>...</th>\n",
       "      <td>...</td>\n",
       "      <td>...</td>\n",
       "    </tr>\n",
       "    <tr>\n",
       "      <th>10502</th>\n",
       "      <td>2052-10-02</td>\n",
       "      <td>137.490</td>\n",
       "    </tr>\n",
       "    <tr>\n",
       "      <th>10503</th>\n",
       "      <td>2052-10-03</td>\n",
       "      <td>137.485</td>\n",
       "    </tr>\n",
       "    <tr>\n",
       "      <th>10504</th>\n",
       "      <td>2052-10-04</td>\n",
       "      <td>137.480</td>\n",
       "    </tr>\n",
       "    <tr>\n",
       "      <th>10505</th>\n",
       "      <td>2052-10-05</td>\n",
       "      <td>137.475</td>\n",
       "    </tr>\n",
       "    <tr>\n",
       "      <th>10506</th>\n",
       "      <td>2052-10-06</td>\n",
       "      <td>137.470</td>\n",
       "    </tr>\n",
       "  </tbody>\n",
       "</table>\n",
       "<p>10507 rows × 2 columns</p>\n",
       "</div>"
      ],
      "text/plain": [
       "            Date     Tres\n",
       "0     2024-01-01  190.000\n",
       "1     2024-01-02  189.995\n",
       "2     2024-01-03  189.990\n",
       "3     2024-01-04  189.985\n",
       "4     2024-01-05  189.980\n",
       "...          ...      ...\n",
       "10502 2052-10-02  137.490\n",
       "10503 2052-10-03  137.485\n",
       "10504 2052-10-04  137.480\n",
       "10505 2052-10-05  137.475\n",
       "10506 2052-10-06  137.470\n",
       "\n",
       "[10507 rows x 2 columns]"
      ]
     },
     "execution_count": 18,
     "metadata": {},
     "output_type": "execute_result"
    }
   ],
   "source": [
    "df"
   ]
  },
  {
   "cell_type": "code",
   "execution_count": null,
   "id": "f842c372",
   "metadata": {},
   "outputs": [],
   "source": []
  },
  {
   "cell_type": "code",
   "execution_count": null,
   "id": "6b68d737",
   "metadata": {},
   "outputs": [],
   "source": []
  },
  {
   "cell_type": "code",
   "execution_count": null,
   "id": "b0ff884a",
   "metadata": {},
   "outputs": [],
   "source": []
  }
 ],
 "metadata": {
  "kernelspec": {
   "display_name": "Python 3 (ipykernel)",
   "language": "python",
   "name": "python3"
  },
  "language_info": {
   "codemirror_mode": {
    "name": "ipython",
    "version": 3
   },
   "file_extension": ".py",
   "mimetype": "text/x-python",
   "name": "python",
   "nbconvert_exporter": "python",
   "pygments_lexer": "ipython3",
   "version": "3.9.15"
  }
 },
 "nbformat": 4,
 "nbformat_minor": 5
}
