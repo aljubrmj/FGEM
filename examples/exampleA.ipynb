{
 "cells": [
  {
   "cell_type": "code",
   "execution_count": null,
   "id": "6b761121",
   "metadata": {
    "scrolled": true
   },
   "outputs": [],
   "source": [
    "# Only needed when FGEM is NOT installed by user\n",
    "import sys\n",
    "sys.path.insert(1, '../')\n",
    "\n",
    "from fgem.world import World\n",
    "from fgem.utils.config import get_config_from_json\n",
    "from tqdm.notebook import tqdm"
   ]
  },
  {
   "cell_type": "code",
   "execution_count": null,
   "id": "de899268-a197-4ca6-8d3f-88a8985a1440",
   "metadata": {},
   "outputs": [],
   "source": [
    "# Read configuration file\n",
    "config = get_config_from_json('configs/exampleA.json')\n",
    "\n",
    "# config[\"upstream\"][\"reservoir_type\"] = \"energy_decline\"\n",
    "\n",
    "config[\"upstream\"][\"reservoir_type\"] = \"diffusion_convection\"\n",
    "config[\"upstream\"][\"lateral_length\"] = 2000\n",
    "config[\"upstream\"][\"V_res\"] = 2\n",
    "\n",
    "# config[\"upstream\"][\"lateral_length\"] = 2000\n",
    "# # config[\"upstream\"][\"well_depth\"] = 7000\n",
    "# config[\"economics\"][\"drilling_cost\"] = 1000\n",
    "# config[\"upstream\"][\"reservoir_type\"] = \"uloop\"\n",
    "# # config[\"upstream\"][\"closedloop_design\"] = \"eavor\"\n",
    "# config[\"upstream\"][\"numberoflaterals\"] = 1\n",
    "# config[\"upstream\"][\"dx\"] = 100\n",
    "# config[\"metadata\"][\"reservoir_simulator_settings\"] = {\"on\": False, \"accuracy\": 5, \"DynamicFluidProperties\": False}\n",
    "# config[\"upstream\"][\"PumpingModel\"] = \"ClosedLoop\"\n",
    "# config[\"upstream\"][\"num_prd\"] = 1\n",
    "# config[\"upstream\"][\"prd_well_diam\"] = 0.3#\n",
    "# config[\"upstream\"][\"inj_well_diam\"] = 0.3#\n",
    "# config[\"upstream\"][\"lateral_diam\"] = 0.1#\n",
    "# config[\"market\"][\"resample\"] = \"1d\"#\n",
    "# config[\"economics\"][\"L\"] = 3#\n",
    "\n",
    "\n",
    "project = World(config)\n",
    "\n",
    "# Iterate over project lifetime\n",
    "for i in tqdm(range(project.max_simulation_steps-1)):\n",
    "    project.step_update_record()\n",
    "\n",
    "# Compute economics and summary results\n",
    "project.compute_economics()\n",
    "\n",
    "# Visualize results\n",
    "# project.viz_results()"
   ]
  },
  {
   "cell_type": "code",
   "execution_count": null,
   "id": "c5378ad4",
   "metadata": {},
   "outputs": [],
   "source": [
    "fig = project.reservoir.plot_doublet()"
   ]
  },
  {
   "cell_type": "code",
   "execution_count": null,
   "id": "525fc894",
   "metadata": {},
   "outputs": [],
   "source": [
    "fig = project.plot_economics()"
   ]
  },
  {
   "cell_type": "code",
   "execution_count": null,
   "id": "0cf881fb",
   "metadata": {},
   "outputs": [],
   "source": [
    "fig = project.plot_operations()"
   ]
  },
  {
   "cell_type": "code",
   "execution_count": null,
   "id": "b2b6d9c7",
   "metadata": {},
   "outputs": [],
   "source": []
  },
  {
   "cell_type": "code",
   "execution_count": null,
   "id": "b5b23524",
   "metadata": {},
   "outputs": [],
   "source": [
    "from pyXSteam.XSteam import XSteam"
   ]
  },
  {
   "cell_type": "code",
   "execution_count": null,
   "id": "18623001",
   "metadata": {},
   "outputs": [],
   "source": [
    "steamTable = XSteam(XSteam.UNIT_SYSTEM_MKS) # m/kg/sec/°C/bar/W"
   ]
  },
  {
   "cell_type": "code",
   "execution_count": null,
   "id": "9c80cda6",
   "metadata": {},
   "outputs": [],
   "source": [
    "steamTable.vL_t(100)"
   ]
  },
  {
   "cell_type": "code",
   "execution_count": null,
   "id": "f79fe17d",
   "metadata": {},
   "outputs": [],
   "source": []
  },
  {
   "cell_type": "code",
   "execution_count": null,
   "id": "58e69c57",
   "metadata": {},
   "outputs": [],
   "source": []
  },
  {
   "cell_type": "code",
   "execution_count": null,
   "id": "75adbcb2",
   "metadata": {},
   "outputs": [],
   "source": []
  },
  {
   "cell_type": "code",
   "execution_count": null,
   "id": "070a9560",
   "metadata": {},
   "outputs": [],
   "source": []
  },
  {
   "cell_type": "code",
   "execution_count": null,
   "id": "27bddda6",
   "metadata": {},
   "outputs": [],
   "source": []
  }
 ],
 "metadata": {
  "kernelspec": {
   "display_name": "Python 3 (ipykernel)",
   "language": "python",
   "name": "python3"
  },
  "language_info": {
   "codemirror_mode": {
    "name": "ipython",
    "version": 3
   },
   "file_extension": ".py",
   "mimetype": "text/x-python",
   "name": "python",
   "nbconvert_exporter": "python",
   "pygments_lexer": "ipython3",
   "version": "3.9.15"
  }
 },
 "nbformat": 4,
 "nbformat_minor": 5
}
