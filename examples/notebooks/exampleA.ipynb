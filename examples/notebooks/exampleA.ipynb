{
 "cells": [
  {
   "cell_type": "code",
   "execution_count": 1,
   "id": "6b761121",
   "metadata": {
    "scrolled": true
   },
   "outputs": [],
   "source": [
    "from fgem.world import World\n",
    "from fgem.utils.config import get_config_from_json"
   ]
  },
  {
   "cell_type": "code",
   "execution_count": 2,
   "id": "45318236-9712-4733-9587-57b62a2ef619",
   "metadata": {},
   "outputs": [],
   "source": [
    "import fgem"
   ]
  },
  {
   "cell_type": "code",
   "execution_count": 15,
   "id": "d9667d02-72ad-413a-a773-08f98fd7beeb",
   "metadata": {},
   "outputs": [
    {
     "data": {
      "text/plain": [
       "['wholesale.csv', 'weather.csv', 'battery.csv', 'capacity.csv']"
      ]
     },
     "execution_count": 15,
     "metadata": {},
     "output_type": "execute_result"
    }
   ],
   "source": [
    "import os \n",
    "os.listdir(os.path.join(fgem.__path__[0], \"data/market\"))"
   ]
  },
  {
   "cell_type": "code",
   "execution_count": null,
   "id": "275befe6-535a-40f1-996f-be2f396b78cb",
   "metadata": {},
   "outputs": [],
   "source": []
  },
  {
   "cell_type": "code",
   "execution_count": null,
   "id": "de8a4290-1c0f-4e2e-9fc5-ebce1568c216",
   "metadata": {},
   "outputs": [],
   "source": []
  },
  {
   "cell_type": "code",
   "execution_count": null,
   "id": "8c6cb20e-e01c-4206-9628-d76b015ed09f",
   "metadata": {},
   "outputs": [],
   "source": []
  },
  {
   "cell_type": "code",
   "execution_count": null,
   "id": "fec5ac02-7379-4558-bad7-11dab5d94f52",
   "metadata": {},
   "outputs": [],
   "source": []
  },
  {
   "cell_type": "code",
   "execution_count": null,
   "id": "de899268-a197-4ca6-8d3f-88a8985a1440",
   "metadata": {},
   "outputs": [],
   "source": []
  },
  {
   "cell_type": "code",
   "execution_count": null,
   "id": "7a9ca3d6-1228-4266-941e-0458d4395d29",
   "metadata": {},
   "outputs": [],
   "source": []
  },
  {
   "cell_type": "code",
   "execution_count": null,
   "id": "30584750-660a-4b6d-9126-5dd9f7b8167b",
   "metadata": {},
   "outputs": [],
   "source": [
    "import fgem"
   ]
  },
  {
   "cell_type": "code",
   "execution_count": null,
   "id": "6c56a024-0bee-4942-9af9-ff7b6a9455a9",
   "metadata": {},
   "outputs": [],
   "source": [
    "import numpy as np"
   ]
  },
  {
   "cell_type": "code",
   "execution_count": null,
   "id": "aa8c3cef-9a6b-4de2-9fc7-ece2ead4ef08",
   "metadata": {},
   "outputs": [],
   "source": [
    "np.__path__"
   ]
  },
  {
   "cell_type": "code",
   "execution_count": null,
   "id": "81cd4466-a57d-45bb-8341-5ddad4a499e7",
   "metadata": {},
   "outputs": [],
   "source": [
    "import FGEM"
   ]
  },
  {
   "cell_type": "code",
   "execution_count": null,
   "id": "07ed7f91-85e5-468c-afdf-e8f960da79b5",
   "metadata": {},
   "outputs": [],
   "source": []
  },
  {
   "cell_type": "code",
   "execution_count": null,
   "id": "d1afe20c",
   "metadata": {},
   "outputs": [],
   "source": []
  },
  {
   "cell_type": "code",
   "execution_count": null,
   "id": "b2b6d9c7",
   "metadata": {},
   "outputs": [],
   "source": []
  },
  {
   "cell_type": "code",
   "execution_count": null,
   "id": "b5b23524",
   "metadata": {},
   "outputs": [],
   "source": []
  },
  {
   "cell_type": "code",
   "execution_count": null,
   "id": "18623001",
   "metadata": {},
   "outputs": [],
   "source": []
  },
  {
   "cell_type": "code",
   "execution_count": null,
   "id": "9c80cda6",
   "metadata": {},
   "outputs": [],
   "source": []
  },
  {
   "cell_type": "code",
   "execution_count": null,
   "id": "f79fe17d",
   "metadata": {},
   "outputs": [],
   "source": []
  },
  {
   "cell_type": "code",
   "execution_count": null,
   "id": "58e69c57",
   "metadata": {},
   "outputs": [],
   "source": []
  },
  {
   "cell_type": "code",
   "execution_count": null,
   "id": "75adbcb2",
   "metadata": {},
   "outputs": [],
   "source": []
  },
  {
   "cell_type": "code",
   "execution_count": null,
   "id": "070a9560",
   "metadata": {},
   "outputs": [],
   "source": []
  },
  {
   "cell_type": "code",
   "execution_count": null,
   "id": "27bddda6",
   "metadata": {},
   "outputs": [],
   "source": []
  }
 ],
 "metadata": {
  "kernelspec": {
   "display_name": "Python 3 (ipykernel)",
   "language": "python",
   "name": "python3"
  },
  "language_info": {
   "codemirror_mode": {
    "name": "ipython",
    "version": 3
   },
   "file_extension": ".py",
   "mimetype": "text/x-python",
   "name": "python",
   "nbconvert_exporter": "python",
   "pygments_lexer": "ipython3",
   "version": "3.9.19"
  }
 },
 "nbformat": 4,
 "nbformat_minor": 5
}
